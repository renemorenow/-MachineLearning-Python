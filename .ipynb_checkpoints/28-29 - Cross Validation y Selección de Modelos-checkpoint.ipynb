{
 "cells": [
  {
   "cell_type": "code",
   "execution_count": 1,
   "metadata": {},
   "outputs": [],
   "source": [
    "# Lesson 28"
   ]
  },
  {
   "cell_type": "code",
   "execution_count": 2,
   "metadata": {},
   "outputs": [],
   "source": [
    "import warnings\n",
    "warnings.simplefilter(\"ignore\")"
   ]
  },
  {
   "cell_type": "code",
   "execution_count": 6,
   "metadata": {},
   "outputs": [],
   "source": [
    "%matplotlib inline\n",
    "import numpy as np\n",
    "import pandas as pd\n",
    "import matplotlib.pyplot as plt"
   ]
  },
  {
   "cell_type": "markdown",
   "metadata": {},
   "source": [
    "Métodos de evaluación\n",
    "Por ahora hemos visto que:\n",
    "\n",
    "Se necesita separar de forma aleatoria en datos de entrenamiento y testeo para poder evaluar performance del algoritmo\n",
    "Existen diversas métricas para evaluar rendimiento, y elegimos la nuestra según las caracteristicas de nuestro problema\n",
    "Es útil apoyar la evaluación con visualizaciones de errores, como por ejemplo scatterplots de residuales\n",
    "Sin embargo nuestro método hasta ahora tiene una falla. Este depende de la forma en que fueron elegidos nuestros datos de forma aleatoria:\n",
    "\n",
    "Podemos tener suerte y caer en un train set y test set que sea ideal para nuestro modelo.\n",
    "Podemos tener pésima performance con esa separación de datos pero no en otros.\n",
    "Controlar la aleatoridad en train_test_split\n",
    "\n",
    "train_test_split separa cada vez que lo llamamos los datos de forma diferente. Para poder comparar modelos, hacer un código más limpio y compacto y para poder hacer nuestros experimentos reproducibles utilizaremos el parametro random_state."
   ]
  },
  {
   "cell_type": "code",
   "execution_count": null,
   "metadata": {},
   "outputs": [],
   "source": [
    "#X = pd.read_csv('../vol/intermediate_results/X_opening.csv')\n",
    "X = pd.read_csv('https://raw.githubusercontent.com/renemorenow/MachineLearning-Python/master/X.csv',encoding='utf-8',sep=',')\n",
    "y = X['worldwide_gross']\n",
    "X = X.drop('worldwide_gross',axis=1)"
   ]
  }
 ],
 "metadata": {
  "kernelspec": {
   "display_name": "Python 3",
   "language": "python",
   "name": "python3"
  },
  "language_info": {
   "codemirror_mode": {
    "name": "ipython",
    "version": 3
   },
   "file_extension": ".py",
   "mimetype": "text/x-python",
   "name": "python",
   "nbconvert_exporter": "python",
   "pygments_lexer": "ipython3",
   "version": "3.6.7"
  }
 },
 "nbformat": 4,
 "nbformat_minor": 2
}
