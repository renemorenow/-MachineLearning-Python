{
 "cells": [
  {
   "cell_type": "markdown",
   "metadata": {},
   "source": [
    "# Curso de Machine Learning Aplicado con Python"
   ]
  },
  {
   "cell_type": "markdown",
   "metadata": {},
   "source": [
    "![Machine-Learning](assets/Machine-Learning.jpg)"
   ]
  },
  {
   "cell_type": "markdown",
   "metadata": {},
   "source": [
    "## Ajustando Modelos de Machine Mearning, Underfitting y Overfitting"
   ]
  },
  {
   "cell_type": "markdown",
   "metadata": {},
   "source": [
    "\n",
    "\n",
    "* **Unferfitting** *(Subajuste)*: \n",
    "\n",
    "Se presenta cuando un modelo no puede capturar la tendencia de los datos. Es generalmente el resultado de un modelo extremadamente simple.\n",
    "\n",
    "* **Overfitting** *(Sobreajuste)*: \n",
    "\n",
    "Se presenta cuando un algoritmo está perfectamente adaptado a los datos con los que lo entrenamos, pero si trataran de predecir nuevos datos, lo más probable es que nos de error.\n",
    "\n",
    "<hr/>\n",
    "<div style=\"background-color:#d1d1d1\">\n",
    "Entre los modelos matemáticos que existen, el **polinómico** es el que mejor se adapta a tendencias de datos extrañas sin embargo, hay que tener cuidado de usar más del **tercer orden** polinómico.\n",
    "</div>"
   ]
  },
  {
   "cell_type": "markdown",
   "metadata": {},
   "source": [
    "### Underfiting:\n",
    "\n",
    "![underfitting](assets/underfitting.png)"
   ]
  },
  {
   "cell_type": "markdown",
   "metadata": {},
   "source": [
    "Nuestro modelo es extremedamente simple y no se asemeja ni a los datos de entrenamiento ni a los datos de test, ya que hemos escojido una regresion con un polinomio constante sacado apartir del *promedio* de los datos.\n",
    "\n",
    "*Lo que quiere decir que nuestro error de train es bastante alto*\n",
    "*Y que nuestro error de test es tambien bastante alto*\n",
    "\n",
    "## A todo esto se le llama Underfitting"
   ]
  },
  {
   "cell_type": "markdown",
   "metadata": {},
   "source": [
    "### Overfitting"
   ]
  },
  {
   "cell_type": "markdown",
   "metadata": {},
   "source": [
    "![overfitting](assets/overfitting.png)"
   ]
  },
  {
   "cell_type": "markdown",
   "metadata": {},
   "source": [
    "Nuestro modelo ahora es extremadamente complejo al utilizar un polinomio de grado 10, contiene muchas variaciones, por lo que si el modelo tiene un polinomio muy alto puede que pase exactamente por todos los puntos de entrenamiento y eso esta bien por el lado del entrenamiento, el problema que se tiene es que sin embargo, vamos a estar tambien con errores en nuestros datos de test.\n",
    "\n",
    "*Por lo que nuestros errores en los datos de train seran bajos*\n",
    "*Pero los errores datos de test seran altos*\n",
    "\n",
    "Si sobre el test tenermos un mal score no nos sirve este modelo por que no estamos predicciendo que es lo que nos interesa"
   ]
  },
  {
   "cell_type": "markdown",
   "metadata": {
    "collapsed": true
   },
   "source": [
    "## Lo mejor para estos casos"
   ]
  },
  {
   "cell_type": "markdown",
   "metadata": {},
   "source": [
    "*Por lo general se intenta no superar el grado 3 de polinomio*\n",
    "\n",
    "**En este caso se utiliza el de grado 2(Linea morada)**"
   ]
  },
  {
   "cell_type": "markdown",
   "metadata": {},
   "source": [
    "![model_success](assets/model_success.png)"
   ]
  },
  {
   "cell_type": "markdown",
   "metadata": {},
   "source": [
    "Para utilizar una parabola, en donde estaremos cerca de lo que queremos un error de train bajo y un error de test bajo\n",
    "\n",
    "**Tambien podemos medir esto cuando miramos la diferencia entre el train y el test sea pequeña**\n",
    "\n",
    "E<sub>train</sub> - E<sub>test</sub> << 1"
   ]
  },
  {
   "cell_type": "markdown",
   "metadata": {},
   "source": [
    "**De forma general en casos de ML se itera hasta conseguir el resultado las predicciones mas exactas posibles**\n",
    "\n",
    "*Si tenemos underfitting lo arreglamos compleficar el modelo con polinimos de mas grado*\n",
    "\n",
    "*Si tenemos overfitting lo que hacemos es regularizar el modelo, lo que significa que utilizamos ciertos parametros para que un modelo complejo se vuelva mas simple*\n",
    "\n",
    "**Lo que buscamos es llegar  a una solucion con bajos errores tanto en el train como en el test**"
   ]
  },
  {
   "cell_type": "code",
   "execution_count": null,
   "metadata": {
    "collapsed": true
   },
   "outputs": [],
   "source": []
  }
 ],
 "metadata": {
  "kernelspec": {
   "display_name": "Python 3",
   "language": "python",
   "name": "python3"
  },
  "language_info": {
   "codemirror_mode": {
    "name": "ipython",
    "version": 3
   },
   "file_extension": ".py",
   "mimetype": "text/x-python",
   "name": "python",
   "nbconvert_exporter": "python",
   "pygments_lexer": "ipython3",
   "version": "3.6.7"
  }
 },
 "nbformat": 4,
 "nbformat_minor": 2
}
