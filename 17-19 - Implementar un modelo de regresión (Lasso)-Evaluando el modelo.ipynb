{
 "cells": [
  {
   "cell_type": "markdown",
   "metadata": {},
   "source": [
    "# Curso de Machine Learning Aplicado con Python"
   ]
  },
  {
   "cell_type": "markdown",
   "metadata": {},
   "source": [
    "![Machine-Learning](assets/Machine-Learning.jpg)"
   ]
  },
  {
   "cell_type": "markdown",
   "metadata": {},
   "source": [
    "## Implementar un modelo de regresión (Lasso)"
   ]
  },
  {
   "cell_type": "code",
   "execution_count": 6,
   "metadata": {},
   "outputs": [
    {
     "name": "stdout",
     "output_type": "stream",
     "text": [
      "Librerias importadas:\n",
      "\n",
      "Version Numpy:     \t1.18.1 \n",
      "Version Pandas:    \t0.24.2 \n",
      "Version Matplotlib:\t3.1.1\n",
      "Version seaborn:   \t0.10.0\n"
     ]
    }
   ],
   "source": [
    "# importamos las librerias\n",
    "import numpy as np\n",
    "import pandas as pd\n",
    "import matplotlib\n",
    "import matplotlib.pyplot as plt\n",
    "import seaborn as sb\n",
    "print('Librerias importadas:')\n",
    "print(\"\"\"\n",
    "Version Numpy:     \\t{} \n",
    "Version Pandas:    \\t{} \n",
    "Version Matplotlib:\\t{}\n",
    "Version seaborn:   \\t{}\"\"\".format(np.__version__,pd.__version__,matplotlib.__version__,sb.__version__))\n"
   ]
  },
  {
   "cell_type": "markdown",
   "metadata": {},
   "source": [
    "### Implementemos un modelo simple de regresión primero"
   ]
  },
  {
   "cell_type": "code",
   "execution_count": 9,
   "metadata": {},
   "outputs": [],
   "source": [
    "#Exportamos el dataset ya limpio\n",
    "X = pd.read_csv('https://raw.githubusercontent.com/renemorenow/MachineLearning-Python/master/X.csv',encoding='utf-8',sep=',')"
   ]
  },
  {
   "cell_type": "code",
   "execution_count": 10,
   "metadata": {},
   "outputs": [
    {
     "data": {
      "text/html": [
       "<div>\n",
       "<style scoped>\n",
       "    .dataframe tbody tr th:only-of-type {\n",
       "        vertical-align: middle;\n",
       "    }\n",
       "\n",
       "    .dataframe tbody tr th {\n",
       "        vertical-align: top;\n",
       "    }\n",
       "\n",
       "    .dataframe thead th {\n",
       "        text-align: right;\n",
       "    }\n",
       "</style>\n",
       "<table border=\"1\" class=\"dataframe\">\n",
       "  <thead>\n",
       "    <tr style=\"text-align: right;\">\n",
       "      <th></th>\n",
       "      <th>Production Budget</th>\n",
       "      <th>Worldwide Gross</th>\n",
       "      <th>num_critic_for_reviews</th>\n",
       "      <th>duration</th>\n",
       "      <th>director_facebook_likes</th>\n",
       "      <th>actor_3_facebook_likes</th>\n",
       "      <th>actor_1_facebook_likes</th>\n",
       "      <th>gross</th>\n",
       "      <th>num_voted_users</th>\n",
       "      <th>cast_total_facebook_likes</th>\n",
       "      <th>facenumber_in_poster</th>\n",
       "      <th>num_user_for_reviews</th>\n",
       "      <th>budget</th>\n",
       "      <th>title_year</th>\n",
       "      <th>actor_2_facebook_likes</th>\n",
       "      <th>imdb_score</th>\n",
       "      <th>aspect_ratio</th>\n",
       "      <th>movie_facebook_likes</th>\n",
       "    </tr>\n",
       "  </thead>\n",
       "  <tbody>\n",
       "    <tr>\n",
       "      <th>0</th>\n",
       "      <td>425000000.0</td>\n",
       "      <td>2.783919e+09</td>\n",
       "      <td>7.230000e+02</td>\n",
       "      <td>1.780000e+02</td>\n",
       "      <td>0.000000e+00</td>\n",
       "      <td>8.550000e+02</td>\n",
       "      <td>1.000000e+03</td>\n",
       "      <td>7.605058e+08</td>\n",
       "      <td>8.862040e+05</td>\n",
       "      <td>4.834000e+03</td>\n",
       "      <td>0.000000e+00</td>\n",
       "      <td>3.054000e+03</td>\n",
       "      <td>2.370000e+08</td>\n",
       "      <td>2.009000e+03</td>\n",
       "      <td>9.360000e+02</td>\n",
       "      <td>7.900000e+01</td>\n",
       "      <td>1.780000e+02</td>\n",
       "      <td>3.300000e+04</td>\n",
       "    </tr>\n",
       "    <tr>\n",
       "      <th>1</th>\n",
       "      <td>410600000.0</td>\n",
       "      <td>1.045664e+09</td>\n",
       "      <td>4.480000e+02</td>\n",
       "      <td>1.360000e+02</td>\n",
       "      <td>2.520000e+02</td>\n",
       "      <td>1.000000e+03</td>\n",
       "      <td>4.000000e+04</td>\n",
       "      <td>2.410639e+08</td>\n",
       "      <td>3.707040e+05</td>\n",
       "      <td>5.408300e+04</td>\n",
       "      <td>4.000000e+00</td>\n",
       "      <td>4.840000e+02</td>\n",
       "      <td>2.500000e+08</td>\n",
       "      <td>2.011000e+03</td>\n",
       "      <td>1.100000e+04</td>\n",
       "      <td>6.700000e+01</td>\n",
       "      <td>2.350000e+02</td>\n",
       "      <td>5.800000e+04</td>\n",
       "    </tr>\n",
       "    <tr>\n",
       "      <th>2</th>\n",
       "      <td>330600000.0</td>\n",
       "      <td>1.408219e+09</td>\n",
       "      <td>6.350000e+02</td>\n",
       "      <td>1.410000e+02</td>\n",
       "      <td>0.000000e+00</td>\n",
       "      <td>1.900000e+04</td>\n",
       "      <td>2.600000e+04</td>\n",
       "      <td>4.589916e+08</td>\n",
       "      <td>4.626690e+05</td>\n",
       "      <td>9.200000e+04</td>\n",
       "      <td>4.000000e+00</td>\n",
       "      <td>1.117000e+03</td>\n",
       "      <td>2.500000e+08</td>\n",
       "      <td>2.015000e+03</td>\n",
       "      <td>2.100000e+04</td>\n",
       "      <td>7.500000e+01</td>\n",
       "      <td>2.350000e+02</td>\n",
       "      <td>1.180000e+05</td>\n",
       "    </tr>\n",
       "    <tr>\n",
       "      <th>3</th>\n",
       "      <td>306000000.0</td>\n",
       "      <td>2.058662e+09</td>\n",
       "      <td>1.182331e+09</td>\n",
       "      <td>1.182331e+09</td>\n",
       "      <td>1.182331e+09</td>\n",
       "      <td>1.182331e+09</td>\n",
       "      <td>1.182331e+09</td>\n",
       "      <td>1.182331e+09</td>\n",
       "      <td>1.182331e+09</td>\n",
       "      <td>1.182331e+09</td>\n",
       "      <td>1.182331e+09</td>\n",
       "      <td>1.182331e+09</td>\n",
       "      <td>1.182331e+09</td>\n",
       "      <td>1.182331e+09</td>\n",
       "      <td>1.182331e+09</td>\n",
       "      <td>1.182331e+09</td>\n",
       "      <td>1.182331e+09</td>\n",
       "      <td>1.182331e+09</td>\n",
       "    </tr>\n",
       "    <tr>\n",
       "      <th>4</th>\n",
       "      <td>300000000.0</td>\n",
       "      <td>9.634204e+08</td>\n",
       "      <td>6.317102e+08</td>\n",
       "      <td>6.317102e+08</td>\n",
       "      <td>6.317102e+08</td>\n",
       "      <td>6.317102e+08</td>\n",
       "      <td>6.317102e+08</td>\n",
       "      <td>6.317102e+08</td>\n",
       "      <td>6.317102e+08</td>\n",
       "      <td>6.317102e+08</td>\n",
       "      <td>6.317102e+08</td>\n",
       "      <td>6.317102e+08</td>\n",
       "      <td>6.317102e+08</td>\n",
       "      <td>6.317102e+08</td>\n",
       "      <td>6.317102e+08</td>\n",
       "      <td>6.317102e+08</td>\n",
       "      <td>6.317102e+08</td>\n",
       "      <td>6.317102e+08</td>\n",
       "    </tr>\n",
       "  </tbody>\n",
       "</table>\n",
       "</div>"
      ],
      "text/plain": [
       "   Production Budget  Worldwide Gross  num_critic_for_reviews      duration  \\\n",
       "0        425000000.0     2.783919e+09            7.230000e+02  1.780000e+02   \n",
       "1        410600000.0     1.045664e+09            4.480000e+02  1.360000e+02   \n",
       "2        330600000.0     1.408219e+09            6.350000e+02  1.410000e+02   \n",
       "3        306000000.0     2.058662e+09            1.182331e+09  1.182331e+09   \n",
       "4        300000000.0     9.634204e+08            6.317102e+08  6.317102e+08   \n",
       "\n",
       "   director_facebook_likes  actor_3_facebook_likes  actor_1_facebook_likes  \\\n",
       "0             0.000000e+00            8.550000e+02            1.000000e+03   \n",
       "1             2.520000e+02            1.000000e+03            4.000000e+04   \n",
       "2             0.000000e+00            1.900000e+04            2.600000e+04   \n",
       "3             1.182331e+09            1.182331e+09            1.182331e+09   \n",
       "4             6.317102e+08            6.317102e+08            6.317102e+08   \n",
       "\n",
       "          gross  num_voted_users  cast_total_facebook_likes  \\\n",
       "0  7.605058e+08     8.862040e+05               4.834000e+03   \n",
       "1  2.410639e+08     3.707040e+05               5.408300e+04   \n",
       "2  4.589916e+08     4.626690e+05               9.200000e+04   \n",
       "3  1.182331e+09     1.182331e+09               1.182331e+09   \n",
       "4  6.317102e+08     6.317102e+08               6.317102e+08   \n",
       "\n",
       "   facenumber_in_poster  num_user_for_reviews        budget    title_year  \\\n",
       "0          0.000000e+00          3.054000e+03  2.370000e+08  2.009000e+03   \n",
       "1          4.000000e+00          4.840000e+02  2.500000e+08  2.011000e+03   \n",
       "2          4.000000e+00          1.117000e+03  2.500000e+08  2.015000e+03   \n",
       "3          1.182331e+09          1.182331e+09  1.182331e+09  1.182331e+09   \n",
       "4          6.317102e+08          6.317102e+08  6.317102e+08  6.317102e+08   \n",
       "\n",
       "   actor_2_facebook_likes    imdb_score  aspect_ratio  movie_facebook_likes  \n",
       "0            9.360000e+02  7.900000e+01  1.780000e+02          3.300000e+04  \n",
       "1            1.100000e+04  6.700000e+01  2.350000e+02          5.800000e+04  \n",
       "2            2.100000e+04  7.500000e+01  2.350000e+02          1.180000e+05  \n",
       "3            1.182331e+09  1.182331e+09  1.182331e+09          1.182331e+09  \n",
       "4            6.317102e+08  6.317102e+08  6.317102e+08          6.317102e+08  "
      ]
     },
     "execution_count": 10,
     "metadata": {},
     "output_type": "execute_result"
    }
   ],
   "source": [
    "X.head()"
   ]
  },
  {
   "cell_type": "code",
   "execution_count": 11,
   "metadata": {},
   "outputs": [],
   "source": [
    "# separamos la columna de Worldwide Gross ya que es nuestra variable objetivo, la sacamos del data  de X y la pasare al vector Y\n",
    "y = X['Worldwide Gross']"
   ]
  },
  {
   "cell_type": "code",
   "execution_count": 12,
   "metadata": {},
   "outputs": [],
   "source": [
    "#Eliminamos la columna del set de X\n",
    "X = X.drop(['Worldwide Gross','gross'], axis=1)"
   ]
  },
  {
   "cell_type": "code",
   "execution_count": 13,
   "metadata": {},
   "outputs": [],
   "source": [
    "#Ahora lo que hacemos es separar los datos\n",
    "from sklearn.model_selection import train_test_split\n",
    "#lo que haremos es que asignaremos un 40% para datos de test y el resto para entrenamiento\n",
    "X_train, X_test, y_train, y_test = train_test_split(X, y, test_size=0.4)"
   ]
  },
  {
   "cell_type": "code",
   "execution_count": 14,
   "metadata": {},
   "outputs": [
    {
     "name": "stdout",
     "output_type": "stream",
     "text": [
      "\n",
      "# de datos por col en X:       \t 5011\t100%\n",
      "# de datos por col en X_train: \t 3006\t59.9880263420475%\n",
      "# de datos por col en X_test:  \t 2005\t40.0119736579525%\n"
     ]
    }
   ],
   "source": [
    "# Comprobamos\n",
    "print(\"\"\"\n",
    "# de datos por col en X:       \\t {}\\t100%\n",
    "# de datos por col en X_train: \\t {}\\t{}%\n",
    "# de datos por col en X_test:  \\t {}\\t{}%\"\"\".format(len(X), len(X_train), (len(X_train)/len(X))*100, len(X_test), (len(X_test)/len(X))*100))"
   ]
  },
  {
   "cell_type": "markdown",
   "metadata": {},
   "source": [
    "**Entramos en materia de ML** *Ocuparemos una regresion `Lasso` que se encuentra en un modulo que se llama `linear_model`, en donde linear model es todo una familia de modelos de ML que incluye la regresión, la regresion logistica entre otros que son denominados modelos lineales*"
   ]
  },
  {
   "cell_type": "code",
   "execution_count": 15,
   "metadata": {},
   "outputs": [],
   "source": [
    "from sklearn.linear_model import Lasso\n",
    "#Utilizaremos lasso de una manera sencilla, lo primero que hacemos es instanciarlo\n",
    "model = Lasso()"
   ]
  },
  {
   "cell_type": "code",
   "execution_count": 16,
   "metadata": {},
   "outputs": [
    {
     "name": "stderr",
     "output_type": "stream",
     "text": [
      "C:\\Users\\wmoreno\\AppData\\Local\\ESRI\\conda\\envs\\my_arcgispro-py3\\lib\\site-packages\\sklearn\\linear_model\\_coordinate_descent.py:476: ConvergenceWarning: Objective did not converge. You might want to increase the number of iterations. Duality gap: 1.793706246128929e+19, tolerance: 8969896485538792.0\n",
      "  positive)\n"
     ]
    },
    {
     "data": {
      "text/plain": [
       "Lasso(alpha=1.0, copy_X=True, fit_intercept=True, max_iter=1000,\n",
       "      normalize=False, positive=False, precompute=False, random_state=None,\n",
       "      selection='cyclic', tol=0.0001, warm_start=False)"
      ]
     },
     "execution_count": 16,
     "metadata": {},
     "output_type": "execute_result"
    }
   ],
   "source": [
    "#Lo entrenamos\n",
    "model.fit(X_train,y_train)\n",
    "#Con esto basta para entrenar el modelo ._.\n",
    "# no preocuparse por la alerta que sale"
   ]
  },
  {
   "cell_type": "code",
   "execution_count": 17,
   "metadata": {},
   "outputs": [],
   "source": [
    "# y ahora haremos las predicciones con el dataset de test\n",
    "predicted = model.predict(X_test)"
   ]
  },
  {
   "cell_type": "code",
   "execution_count": 18,
   "metadata": {},
   "outputs": [
    {
     "name": "stdout",
     "output_type": "stream",
     "text": [
      "Este vector cuenta con 2005 datos\n"
     ]
    },
    {
     "data": {
      "text/plain": [
       "array([36267943.27162592, 31896953.00521731, 73386916.87970434, ...,\n",
       "       18472143.80048841,  9377308.3591367 , -6268372.95633285])"
      ]
     },
     "execution_count": 18,
     "metadata": {},
     "output_type": "execute_result"
    }
   ],
   "source": [
    "#Que tal se ven nuestras predicciones \n",
    "print(\"Este vector cuenta con\", predicted.shape[0], \"datos\")\n",
    "predicted"
   ]
  },
  {
   "cell_type": "code",
   "execution_count": 19,
   "metadata": {},
   "outputs": [
    {
     "data": {
      "image/png": "[encoded data removed]",
      "text/plain": [
       "<Figure size 432x288 with 1 Axes>"
      ]
     },
     "metadata": {
      "needs_background": "light"
     },
     "output_type": "display_data"
    }
   ],
   "source": [
    "#veremos graficamente la comparacion de los resultados de predicted contra y_test\n",
    "%matplotlib inline\n",
    "\n",
    "plt.hist([predicted,y_test]);\n",
    "# en cuentas generales esta mas o menos bien por que son similares pero podemos hacer algo mejor\n",
    "# Que nos dice este histogram:\n",
    "# Que las peliculas con presupuesto con cifras menores a billon de dolares(exactamente entre 0.0 y el 0.25) \n",
    "# son 1750 peliculas aproximademente, y esto concuerda con nuestra prediccion"
   ]
  },
  {
   "cell_type": "code",
   "execution_count": 20,
   "metadata": {},
   "outputs": [
    {
     "data": {
      "image/png": "[encoded data removed]",
      "text/plain": [
       "<Figure size 432x288 with 1 Axes>"
      ]
     },
     "metadata": {
      "needs_background": "light"
     },
     "output_type": "display_data"
    }
   ],
   "source": [
    "#Otra forma de ver el histogram\n",
    "plt.hist([predicted,y_test],log=True);"
   ]
  },
  {
   "cell_type": "markdown",
   "metadata": {
    "collapsed": true
   },
   "source": [
    "# 19 - Evaluando el modelo"
   ]
  },
  {
   "cell_type": "markdown",
   "metadata": {},
   "source": [
    "Para evaluar la perfomance del modelo scikit-learn nos ofrece todo uan serie de herramientas:\n",
    "* Por un lado diferentes *metricas* que vienen en el modulo `sklearn.metrics`\n",
    "* Y por otro lado tambien en `sklearn.model_selection` nos ofrece funciones entre ellas para sacar *score* este modulo ocupa internamente el modulo de *metrics*"
   ]
  },
  {
   "cell_type": "markdown",
   "metadata": {},
   "source": [
    "## Evaluemos de forma más fina el comportamiento de nuestro modelo"
   ]
  },
  {
   "cell_type": "markdown",
   "metadata": {},
   "source": [
    "<div style=\"background-color:#C5E0DC\">\n",
    "Los estimadores y las funciones de sklearn vienen cone el máximo de argumentos con valores por defecto que suelen ser las mejores opciones si no tenemos algun conocimiento particular de el problema. En este caso particular la funcion `estimator.score` ya viene con una de las métricas de `sklearn.metrics` que es la metrica `sklearn.metric.r2_score`\n",
    "</div>"
   ]
  },
  {
   "cell_type": "markdown",
   "metadata": {},
   "source": [
    "<div style=\"background-color:#77ee77\">\n",
    "El **score R2** de una regresión es una de las formas mas comunes de entender su poder predictivo.\n",
    "Este **mientras más cerca de 1 este, mejor es**\n",
    "\n",
    "</div>"
   ]
  },
  {
   "cell_type": "markdown",
   "metadata": {},
   "source": [
    "<div style=\"background-color:#77ee77\">\n",
    "Los valores que pueden tomar son de -infinito hasta 1. Un score negativo es malo, ya que \n",
    "esto indica que la regresión es peor que si simplemente eligieramos un valor fijo como prediccion para todos los puntos, la media.\n",
    "</div>"
   ]
  },
  {
   "cell_type": "code",
   "execution_count": 21,
   "metadata": {},
   "outputs": [
    {
     "data": {
      "text/plain": [
       "0.5852982976887575"
      ]
     },
     "execution_count": 21,
     "metadata": {},
     "output_type": "execute_result"
    }
   ],
   "source": [
    "# Veremos el score que genera nuestro modelo\n",
    "model.score(X_test,y_test)\n",
    "# entre mas se acerque a un mejor es, asi que tenemos un excelente score, \n",
    "# pero aun podemos mejorarlo asi sea un poco"
   ]
  },
  {
   "cell_type": "markdown",
   "metadata": {},
   "source": [
    "Un buen score R2 es importante para una regresión. Pero no lo es todo. De forma general los scores hay que complementarlos con visualizaciones de los datos ya que una métrica no logra siempre encodear todas las caracteristicas de una distribucion de probabilidades. Un ejemplo es el siguiente:"
   ]
  },
  {
   "cell_type": "markdown",
   "metadata": {},
   "source": [
    "![datasaurus](assets/datasaurus.png)"
   ]
  },
  {
   "cell_type": "markdown",
   "metadata": {},
   "source": [
    "Lo sorprendete es qeu todas las graficas tienen los mismos datos estadisticos que se muestran arriba siendo que su forma es muy diferente, todos tienen la misma media, la misma desviacion estandar, la misma correlación.\n",
    "\n",
    "**Asi que nos podemos fiar de solo un score**\n",
    "\n",
    "\n",
    "**Por lo que siempre hay que vizualizar tus resultados,** aunque se tenga un buen score de perfomance"
   ]
  },
  {
   "cell_type": "code",
   "execution_count": 15,
   "metadata": {
    "collapsed": true
   },
   "outputs": [],
   "source": [
    "# graficaremos con matplotlib con \n",
    "# residuales(todas las diferencia que hay entre las predicciones y los valores reales)\n",
    "residuals = y_test - predicted"
   ]
  },
  {
   "cell_type": "code",
   "execution_count": 16,
   "metadata": {},
   "outputs": [
    {
     "data": {
      "text/plain": [
       "<matplotlib.collections.PathCollection at 0x2203aa56d68>"
      ]
     },
     "execution_count": 16,
     "metadata": {},
     "output_type": "execute_result"
    },
    {
     "data": {
      "image/png": "[encoded data removed]",
      "text/plain": [
       "<matplotlib.figure.Figure at 0x2203a4c34a8>"
      ]
     },
     "metadata": {},
     "output_type": "display_data"
    }
   ],
   "source": [
    "# En matplotlib haremos un scatter plot\n",
    "# en funcion del ingreso(y_test) vamos a ver que tanto error hay\n",
    "plt.scatter(y_test, residuals)"
   ]
  },
  {
   "cell_type": "markdown",
   "metadata": {},
   "source": [
    "Por lo que se ve es bastante bien, se ve centradoe en cero, lo que buscamos graficando estos residuales es que no se vean patrones aparentes, ya que esto significara un mal modelo, por ejemplo si hubiesen un grupo de errores  que esten todos juntos en otro lado al que ya vimos seria malo"
   ]
  },
  {
   "cell_type": "markdown",
   "metadata": {},
   "source": [
    "**Lo que queremos despues es mejorar todos los puntos que se encuentran alejados, que si bien no forman un patron, igual estan bastante lejos de la predicción**"
   ]
  },
  {
   "cell_type": "markdown",
   "metadata": {},
   "source": [
    "Veremos estos mismos errores que son **absolutos(dolares)** ahora en **porcentajes**"
   ]
  },
  {
   "cell_type": "code",
   "execution_count": 17,
   "metadata": {
    "collapsed": true
   },
   "outputs": [],
   "source": [
    "#Por lo que creamos otra variable\n",
    "# Le llamo ap_residuals por que solo voy a tomar valores absolutos, ninguno negativo\n",
    "# Tambien lo voy a normalizar para tener el porcentaje de error mas que el valor absoluto\n",
    "ap_residuals = np.abs(residuals)/y_test"
   ]
  },
  {
   "cell_type": "code",
   "execution_count": 18,
   "metadata": {},
   "outputs": [
    {
     "data": {
      "text/plain": [
       "<matplotlib.collections.PathCollection at 0x2203aadd470>"
      ]
     },
     "execution_count": 18,
     "metadata": {},
     "output_type": "execute_result"
    },
    {
     "data": {
      "image/png": "[encoded data removed]",
      "text/plain": [
       "<matplotlib.figure.Figure at 0x2203aa19748>"
      ]
     },
     "metadata": {},
     "output_type": "display_data"
    }
   ],
   "source": [
    "plt.scatter(y_test,ap_residuals)"
   ]
  },
  {
   "cell_type": "markdown",
   "metadata": {},
   "source": [
    "Si la mayoria esta en cero es muy bueno, pero algunas, muy pocas peliculas estan alejadas con unos errores en porcentaje bastante altos, exactamente esa que sobrepasa los 600000"
   ]
  },
  {
   "cell_type": "markdown",
   "metadata": {},
   "source": [
    "Aplicaremos otra tecnica, que es utilizar una escala logaritmica"
   ]
  },
  {
   "cell_type": "code",
   "execution_count": 19,
   "metadata": {
    "collapsed": true
   },
   "outputs": [],
   "source": [
    "# Defino mi variable para logaritmos, loq ue nos permitira ver los dato en orden de magnitud\n",
    "lap_residuals = np.log(ap_residuals)"
   ]
  },
  {
   "cell_type": "code",
   "execution_count": 20,
   "metadata": {},
   "outputs": [
    {
     "data": {
      "text/plain": [
       "<matplotlib.collections.PathCollection at 0x2203ab6d6a0>"
      ]
     },
     "execution_count": 20,
     "metadata": {},
     "output_type": "execute_result"
    },
    {
     "data": {
      "image/png": "[encoded data removed]",
      "text/plain": [
       "<matplotlib.figure.Figure at 0x2203a93ff60>"
      ]
     },
     "metadata": {},
     "output_type": "display_data"
    }
   ],
   "source": [
    "plt.scatter(y_test,lap_residuals)"
   ]
  },
  {
   "cell_type": "markdown",
   "metadata": {},
   "source": [
    "Vemos que todos nuestros puntos estan muy concentrados cerca del 0%, las peliculas de bajo presupuesto se escapan mas(la linea vertical que se forma)\n",
    "que son aquellas que lograron generar mas presupuesto que el esperado, no podemos imaginar los hits de peliculas independientes que no tenia un presupuesto muy alto"
   ]
  },
  {
   "cell_type": "markdown",
   "metadata": {},
   "source": [
    "**De forma general ya podemos concluir que tenemos una buena aproximacion**\n"
   ]
  },
  {
   "cell_type": "markdown",
   "metadata": {},
   "source": [
    "Para cerrar podemos hacer una evaluacion numerica de nuestros errores, un diagrama que se suele llamar\n",
    "**la funcion cumulativa** de la distribucion de los errores"
   ]
  },
  {
   "cell_type": "code",
   "execution_count": 21,
   "metadata": {},
   "outputs": [
    {
     "data": {
      "image/png": "[encoded data removed]",
      "text/plain": [
       "<matplotlib.figure.Figure at 0x2203ab9bc50>"
      ]
     },
     "metadata": {},
     "output_type": "display_data"
    }
   ],
   "source": [
    "#Este histograma tendra 100 distintos valores, \n",
    "#normalizamos todo y lo llevamos a la norma 1\n",
    "#qureremos que el histogram se haga paso por paso, \n",
    "# y que se acumule\n",
    "plt.hist(lap_residuals, bins=100,normed=1, histtype='step', cumulative=True);"
   ]
  },
  {
   "cell_type": "markdown",
   "metadata": {},
   "source": [
    "Lo que se obtiene es la evolucion de cual es el error de nuestras medidas\n",
    "\n",
    "Lo que se podria entender como que:\n",
    "* Si me paro sobre el eje x en -1 ($10^{-1} = 0.1$) me doy cuenta que tengo un error del 10% para el .4(40%) de los datos\n",
    "* Si me paro sobre el 0 ($10^{0} = 1.0$) significa que tengo errores inferiores al 100% tengo en el 0.8(80%) de los datos\n"
   ]
  },
  {
   "cell_type": "code",
   "execution_count": 22,
   "metadata": {},
   "outputs": [
    {
     "data": {
      "text/plain": [
       "array([ 0.13533528,  0.22313016,  0.36787944,  0.60653066,  1.        ])"
      ]
     },
     "execution_count": 22,
     "metadata": {},
     "output_type": "execute_result"
    },
    {
     "data": {
      "image/png": "[encoded data removed]",
      "text/plain": [
       "<matplotlib.figure.Figure at 0x2203ac24be0>"
      ]
     },
     "metadata": {},
     "output_type": "display_data"
    }
   ],
   "source": [
    "#Apliquemos un zoom para ver mejor\n",
    "plt.hist(lap_residuals, bins=100,normed=1, histtype='step', cumulative=True);\n",
    "plt.axis([-2,0,0,1])\n",
    "np.power(np.exp(1)*np.ones(5),np.linspace(-2,0,5))"
   ]
  },
  {
   "cell_type": "markdown",
   "metadata": {},
   "source": [
    "Lo que nos dice esto es que:\n",
    "* parandome sobre -2.00 ($10^{-2} = 0.01$) = Errores menores al 1% tengo el 0.2(20%) de los datos\n",
    "* parandome sobre -1.00 ($10^{-1} = 0.1$)= Errores menores al 10% tengo el 0,4(40%) de los datos\n",
    "* parandome sobre el 0 ($10^{0} = 1.0$)= Errores menores al 100% tengo el 0.7(70%) de los datos"
   ]
  },
  {
   "cell_type": "code",
   "execution_count": null,
   "metadata": {
    "collapsed": true
   },
   "outputs": [],
   "source": []
  }
 ],
 "metadata": {
  "kernelspec": {
   "display_name": "Python 3",
   "language": "python",
   "name": "python3"
  },
  "language_info": {
   "codemirror_mode": {
    "name": "ipython",
    "version": 3
   },
   "file_extension": ".py",
   "mimetype": "text/x-python",
   "name": "python",
   "nbconvert_exporter": "python",
   "pygments_lexer": "ipython3",
   "version": "3.6.7"
  }
 },
 "nbformat": 4,
 "nbformat_minor": 2
}
